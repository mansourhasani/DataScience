{
 "cells": [
  {
   "cell_type": "markdown",
   "id": "8bb1b433",
   "metadata": {},
   "source": [
    "<center>\n",
    "    <img src=\"https://cf-courses-data.s3.us.cloud-object-storage.appdomain.cloud/IBMDeveloperSkillsNetwork-DS0105EN-SkillsNetwork/labs/Module2/images/SN_web_lightmode.png\" width=\"300\" alt=\"cognitiveclass.ai logo\">\n",
    "</center>"
   ]
  },
  {
   "cell_type": "markdown",
   "id": "2e4ed0e5",
   "metadata": {},
   "source": [
    "#### Add your code below following the instructions given in the course\n"
   ]
  },
  {
   "cell_type": "markdown",
   "id": "1f1e80cf",
   "metadata": {},
   "source": [
    "DataScienceEcosystem"
   ]
  },
  {
   "cell_type": "markdown",
   "id": "fb17f294",
   "metadata": {},
   "source": [
    "<h1>Data Science Tools and Ecosystem </h1>"
   ]
  },
  {
   "cell_type": "markdown",
   "id": "2b5c6fac",
   "metadata": {},
   "source": [
    "In this notebook, Data Science Tools and Ecosystem are summarized."
   ]
  },
  {
   "cell_type": "markdown",
   "id": "86ff2368",
   "metadata": {},
   "source": [
    "<h2>Learning objectives for the course</h2>\n",
    "In this training course, you will be introduced to a Data Scientist's workbench or toolbox, which includes a variety of tools, languages, libraries, APIs, datasets, models, etc., that are used by Data Scientists. Try not to get overwhelmed by the sheer number of components and tools that exist in the data science ecosystem. The main goal of this course is for you to have enough information about the types of tools that data scientists use, examples of them, and to spend some time with a few key tools.\n",
    "\n",
    "Some of the popular languages that Data Scientists use are:\n",
    "\n",
    "<ol type=\"1\">\n",
    " <li>Python</li>\n",
    " <li>R</li>\n",
    " <li>Julia</li>\n",
    " <li>SQL</li>\n",
    " <li>Scala</li>\n",
    " <li>Java</li>\n",
    "</ol>\n",
    "\n"
   ]
  },
  {
   "cell_type": "markdown",
   "id": "8c50c0a2",
   "metadata": {},
   "source": [
    "Some of the popular languages that Data Scientists use are:\n",
    "\n",
    "<ol type=\"1\">\n",
    " <li>Python</li>\n",
    " <li>R</li>\n",
    " <li>Julia</li>\n",
    "</ol>\n",
    "\n"
   ]
  },
  {
   "cell_type": "markdown",
   "id": "c3b651b5",
   "metadata": {},
   "source": [
    "Some of the commonly used libraries used by Data Scientists include:\n",
    "\n",
    "<ol type=\"1\">\n",
    " <li>TensorFlow</li>\n",
    " <li>NumPy</li>\n",
    " <li>SciPy</li>\n",
    " <li>Pandas</li>\n",
    "</ol>\n"
   ]
  },
  {
   "cell_type": "markdown",
   "id": "16dc6ebf",
   "metadata": {},
   "source": [
    "<table>\n",
    "  <tr>\n",
    "    <th>Data Science Tools</th>\n",
    "  </tr>\n",
    "  <tr>\n",
    "    <td>Hadoop File System</td>\n",
    "  </tr>\n",
    "  <tr>\n",
    "    <td>Apache AirFlow</td>\n",
    "  </tr>\n",
    "  <tr>\n",
    "    <td>GitHub </td>\n",
    "  </tr>\n",
    "</table>"
   ]
  },
  {
   "cell_type": "markdown",
   "id": "380c6e71",
   "metadata": {},
   "source": [
    "<h3>Below are a few examples of evaluating arithmetic expressions in Python</h3>\n"
   ]
  },
  {
   "cell_type": "code",
   "execution_count": 7,
   "id": "946dce98",
   "metadata": {},
   "outputs": [
    {
     "name": "stdout",
     "output_type": "stream",
     "text": [
      "7\n"
     ]
    }
   ],
   "source": [
    "x = 3\n",
    "y = 4\n",
    "z = x+y\n",
    "print(z)"
   ]
  },
  {
   "cell_type": "markdown",
   "id": "067a696c",
   "metadata": {},
   "source": [
    "This a simple arithmetic expression to mutiply then add integers."
   ]
  },
  {
   "cell_type": "code",
   "execution_count": 8,
   "id": "b42d3a16",
   "metadata": {},
   "outputs": [
    {
     "name": "stdout",
     "output_type": "stream",
     "text": [
      "17\n"
     ]
    }
   ],
   "source": [
    "x = 3\n",
    "y = 4\n",
    "w=5\n",
    "z = (x*y)+w\n",
    "print(z)"
   ]
  },
  {
   "cell_type": "markdown",
   "id": "49947eda",
   "metadata": {},
   "source": [
    "This will convert 200 minutes to hours by diving by 60."
   ]
  },
  {
   "cell_type": "code",
   "execution_count": 11,
   "id": "f34b8dbc",
   "metadata": {},
   "outputs": [
    {
     "name": "stdout",
     "output_type": "stream",
     "text": [
      "3 hour and 20 minute\n"
     ]
    }
   ],
   "source": [
    "minute=200\n",
    "hour=minute//60\n",
    "remaining=minute-(hour*60)\n",
    "print(hour,\"hour and\",remaining,\"minute\")"
   ]
  },
  {
   "cell_type": "markdown",
   "id": "97865155",
   "metadata": {},
   "source": [
    "<h2>Author:</h2>\n",
    "Mansour hasani ghoozlo"
   ]
  },
  {
   "cell_type": "code",
   "execution_count": null,
   "id": "1b0f3843",
   "metadata": {},
   "outputs": [],
   "source": []
  }
 ],
 "metadata": {
  "kernelspec": {
   "display_name": "Python 3 (ipykernel)",
   "language": "python",
   "name": "python3"
  },
  "language_info": {
   "codemirror_mode": {
    "name": "ipython",
    "version": 3
   },
   "file_extension": ".py",
   "mimetype": "text/x-python",
   "name": "python",
   "nbconvert_exporter": "python",
   "pygments_lexer": "ipython3",
   "version": "3.10.9"
  }
 },
 "nbformat": 4,
 "nbformat_minor": 5
}
